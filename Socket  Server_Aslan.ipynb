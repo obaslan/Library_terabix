{
 "cells": [
  {
   "cell_type": "markdown",
   "metadata": {},
   "source": [
    "# By Host Address"
   ]
  },
  {
   "cell_type": "code",
   "execution_count": 1,
   "metadata": {},
   "outputs": [],
   "source": [
    "import re\n",
    "import numpy as np\n",
    "import socket\n",
    "import time"
   ]
  },
  {
   "cell_type": "code",
   "execution_count": null,
   "metadata": {},
   "outputs": [],
   "source": [
    "\n",
    "\n",
    "N = 2\n",
    "for i in np.arange(1, N+1):\n",
    "    #command = read_command_via_port(HOST='testlaptop1')\n",
    "    command = read_command_via_port(HOST='10.185.98.238')\n",
    "\n",
    "    \n",
    "    # Tune the laser\n",
    "    if 'on' in command:\n",
    "        print(command)\n",
    "    \n",
    "    # Tune the laser with dither off\n",
    "    elif 'off' in command:\n",
    "        print(command)\n",
    "    \n",
    "    elif command == 'shutdown':\n",
    "        print('Shutting down the laser')\n",
    "        break\n",
    "    elif command == 'error':\n",
    "        print('error')\n",
    "        continue\n"
   ]
  },
  {
   "cell_type": "code",
   "execution_count": 71,
   "metadata": {},
   "outputs": [
    {
     "data": {
      "text/plain": [
       "(1, 193.5, '50', 200.0)"
      ]
     },
     "execution_count": 71,
     "metadata": {},
     "output_type": "execute_result"
    }
   ],
   "source": [
    "command"
   ]
  },
  {
   "cell_type": "code",
   "execution_count": 2,
   "metadata": {},
   "outputs": [],
   "source": [
    "def read_command_via_port(\n",
    "    \n",
    "    HOST = 'testlaptop1',  # IP address (server)\n",
    "    PORT = 9999,        # Port to listen on (non-privileged ports are > 1023)\n",
    "    N = 1 # number of connections allowed before closing the port\n",
    "    ):\n",
    "    \n",
    "    dither = 'off' # whether to keep the dither on or off after setting the laser\n",
    "    \n",
    "    error_message = ' Command not recognized, try again!'\n",
    "    ok_message = ' OK'\n",
    "    \n",
    "    with socket.socket(socket.AF_INET, socket.SOCK_STREAM) as s:\n",
    "        s.bind((HOST, PORT))\n",
    "        s.listen()\n",
    "        conn, addr = s.accept()\n",
    "        with conn:\n",
    "            print('Connected by', addr)\n",
    "            while True:\n",
    "                data = conn.recv(1024)\n",
    "                if data:\n",
    "                    command = data.decode()\n",
    "                    \n",
    "                    print('Customer sent: %s' %command)\n",
    "                    conn.sendall(data)\n",
    "                    \n",
    "                    # command format : '193.5 THz 50 C 200 mA dither off'\n",
    "                    if ' dither off' in command:\n",
    "                        laser_parameters = command.replace(' dither off', '')\n",
    "                        dither = 'off'\n",
    "                        print('Dither off')\n",
    "                        break\n",
    "                    \n",
    "                    # command format : '193.5 THz 50 C 200 mA dither on'\n",
    "                    elif ' dither on' in command:\n",
    "                        laser_parameters = command.replace(' dither on', '')\n",
    "                        dither = 'on'\n",
    "                        print('Dither on')\n",
    "                        break\n",
    "                        \n",
    "                    elif 'shutdown' in command :\n",
    "                        return 'shutdown'\n",
    "                    \n",
    "                    else :\n",
    "                        print('Error: command sent by client not recognized: \\'%s\\' ' %command )\n",
    "                        conn.sendall( bytes(error_message, encoding='utf8') )\n",
    "                        return 'error' \n",
    "                        \n",
    "                # The following makes sure only one instance of data is received per establhished connection\n",
    "                elif not data:\n",
    "                    break\n",
    "    \n",
    "            try:\n",
    "                F, T, G = re.findall('[0-9-.]+' , laser_parameters) # extract the laser frequency, bench temperature and gain current\n",
    "                conn.sendall( bytes(ok_message, encoding='utf8') )\n",
    "\n",
    "                return dither, float(F), T, float(G) # bench is either 25 or 50, do not let it be a float like 25.0 or 50.0 as it causes problems in other functions\n",
    "            except:\n",
    "                print(error_message)\n",
    "                conn.sendall( bytes(error_message, encoding='utf8') )\n",
    "                return 'error'\n",
    "        \n"
   ]
  },
  {
   "cell_type": "code",
   "execution_count": 8,
   "metadata": {},
   "outputs": [
    {
     "data": {
      "text/plain": [
       "''"
      ]
     },
     "execution_count": 8,
     "metadata": {},
     "output_type": "execute_result"
    }
   ],
   "source": [
    "data.decode()"
   ]
  }
 ],
 "metadata": {
  "kernelspec": {
   "display_name": "Python 3",
   "language": "python",
   "name": "python3"
  },
  "language_info": {
   "codemirror_mode": {
    "name": "ipython",
    "version": 3
   },
   "file_extension": ".py",
   "mimetype": "text/x-python",
   "name": "python",
   "nbconvert_exporter": "python",
   "pygments_lexer": "ipython3",
   "version": "3.7.3"
  },
  "toc": {
   "base_numbering": 1,
   "nav_menu": {},
   "number_sections": true,
   "sideBar": true,
   "skip_h1_title": false,
   "title_cell": "Table of Contents",
   "title_sidebar": "Contents",
   "toc_cell": false,
   "toc_position": {},
   "toc_section_display": true,
   "toc_window_display": true
  },
  "varInspector": {
   "cols": {
    "lenName": 16,
    "lenType": 16,
    "lenVar": 40
   },
   "kernels_config": {
    "python": {
     "delete_cmd_postfix": "",
     "delete_cmd_prefix": "del ",
     "library": "var_list.py",
     "varRefreshCmd": "print(var_dic_list())"
    },
    "r": {
     "delete_cmd_postfix": ") ",
     "delete_cmd_prefix": "rm(",
     "library": "var_list.r",
     "varRefreshCmd": "cat(var_dic_list()) "
    }
   },
   "types_to_exclude": [
    "module",
    "function",
    "builtin_function_or_method",
    "instance",
    "_Feature"
   ],
   "window_display": false
  }
 },
 "nbformat": 4,
 "nbformat_minor": 2
}
