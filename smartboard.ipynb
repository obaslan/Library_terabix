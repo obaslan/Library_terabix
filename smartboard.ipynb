{
 "cells": [
  {
   "cell_type": "code",
   "execution_count": 3,
   "metadata": {},
   "outputs": [],
   "source": [
    "# Does not work\n",
    "def smartboard_connect2( port='COM5', baudrate = 115200):\n",
    "    try:\n",
    "        temp_conn = serial.Serial(port, baudrate, timeout=1)\n",
    "    except serial.SerialException:\n",
    "        return('Error')\n",
    "    \n",
    "    if type(temp_conn) == serial.serialwin32.Serial:\n",
    "        smartboard = copy.copy(temp_conn)\n",
    "        \n",
    "    elif type(smartboard) == serial.serialwin32.Serial:\n",
    "        print(\"Already in serial communication:\")    \n",
    "        print(smartboard)\n",
    "        \n",
    "    else:\n",
    "        \n",
    "        print(\"Could not establish serial communication\")\n",
    "    \n",
    "    return smartboard"
   ]
  },
  {
   "cell_type": "code",
   "execution_count": 6,
   "metadata": {},
   "outputs": [],
   "source": [
    "# Does not work\n",
    "def smartboard_connect( port='COM5', baudrate = 115200):\n",
    "    \n",
    "    \n",
    "    temp_con = ITLAConnect('COM5',115200);\n",
    "    if type(temp_con) == serial.serialwin32.Serial:\n",
    "        smartboard = copy.copy(temp_con)\n",
    "        \n",
    "    elif type(smartboard) == serial.serialwin32.Serial:\n",
    "        print(\"Already in serial communication:\")    \n",
    "        print(smartboard)\n",
    "        \n",
    "    else:\n",
    "        print(\"Could not establish serial communication\")\n",
    "    \n",
    "    return smartboard"
   ]
  },
  {
   "cell_type": "code",
   "execution_count": 11,
   "metadata": {},
   "outputs": [],
   "source": [
    "def board_io( smartboard, command, \n",
    "             output = 0, # no. of characters to read\n",
    "             wait_time = 0.1 # waiting time after writing a command\n",
    "            ):\n",
    "    \n",
    "    bytes_to_write = bytes( command + '\\r', encoding = 'utf-8')\n",
    "    n_bytes_written = smartboard.write( bytes_to_write )\n",
    "    #print(bytes_to_write)\n",
    "    smartboard.flush()\n",
    "    \n",
    "    time.sleep(wait_time)\n",
    "    \n",
    "    #print (smartboard.in_waiting)\n",
    "    \n",
    "    if output == 0:\n",
    "        output = smartboard.in_waiting\n",
    "        #print (output)\n",
    "    \n",
    "        \n",
    "    bytes_read = smartboard.read(output)\n",
    "    #print('Bytes read: ' + str(bytes_read))\n",
    "        \n",
    "    return bytes_read.decode().split('\\r\\n')[:-1]"
   ]
  },
  {
   "cell_type": "code",
   "execution_count": 8,
   "metadata": {},
   "outputs": [
    {
     "data": {
      "text/plain": [
       "b'gc 400\\r'"
      ]
     },
     "execution_count": 8,
     "metadata": {},
     "output_type": "execute_result"
    }
   ],
   "source": [
    "bytes( 'gc 400' + '\\r', encoding = 'utf-8')"
   ]
  }
 ],
 "metadata": {
  "kernelspec": {
   "display_name": "Python 3",
   "language": "python",
   "name": "python3"
  },
  "language_info": {
   "codemirror_mode": {
    "name": "ipython",
    "version": 3
   },
   "file_extension": ".py",
   "mimetype": "text/x-python",
   "name": "python",
   "nbconvert_exporter": "python",
   "pygments_lexer": "ipython3",
   "version": "3.7.1"
  }
 },
 "nbformat": 4,
 "nbformat_minor": 2
}
