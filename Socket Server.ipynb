{
 "cells": [
  {
   "cell_type": "code",
   "execution_count": null,
   "metadata": {},
   "outputs": [
    {
     "name": "stdout",
     "output_type": "stream",
     "text": [
      "Serving as host: Aslan\n"
     ]
    }
   ],
   "source": [
    "import socket                                         \n",
    "\n",
    "# create a socket object\n",
    "serversocket = socket.socket(socket.AF_INET, socket.SOCK_STREAM) \n",
    "\n",
    "# get local machine name\n",
    "host = socket.gethostname()                           \n",
    "print('Serving as host: %s' %host)\n",
    "\n",
    "port = 9999                                           \n",
    "\n",
    "# bind to the port\n",
    "serversocket.bind((host, port))                                  \n",
    "\n",
    "# queue up to 5 requests\n",
    "serversocket.listen(5)                                           \n",
    "\n",
    "i = 0\n",
    "\n",
    "while i < 10:\n",
    "    i+=1\n",
    "    # establish a connection\n",
    "    clientsocket,addr = serversocket.accept()      \n",
    "\n",
    "    print(\"#%s Got a connection from %s\" % (i, str(addr)))\n",
    "    \n",
    "    msg = 'Experiment Done'+ \"\\r\\n\"\n",
    "    \n",
    "    if i == 10:\n",
    "        msg = 'Experiment Done Closing Server'+ \"\\r\\n\"\n",
    "        print('CLosing Server')\n",
    "        \n",
    "    clientsocket.send(msg.encode('ascii'))\n",
    "    clientsocket.close()"
   ]
  }
 ],
 "metadata": {
  "kernelspec": {
   "display_name": "Python 3",
   "language": "python",
   "name": "python3"
  },
  "language_info": {
   "codemirror_mode": {
    "name": "ipython",
    "version": 3
   },
   "file_extension": ".py",
   "mimetype": "text/x-python",
   "name": "python",
   "nbconvert_exporter": "python",
   "pygments_lexer": "ipython3",
   "version": "3.7.4"
  },
  "toc": {
   "base_numbering": 1,
   "nav_menu": {},
   "number_sections": true,
   "sideBar": true,
   "skip_h1_title": false,
   "title_cell": "Table of Contents",
   "title_sidebar": "Contents",
   "toc_cell": false,
   "toc_position": {},
   "toc_section_display": true,
   "toc_window_display": true
  }
 },
 "nbformat": 4,
 "nbformat_minor": 2
}
