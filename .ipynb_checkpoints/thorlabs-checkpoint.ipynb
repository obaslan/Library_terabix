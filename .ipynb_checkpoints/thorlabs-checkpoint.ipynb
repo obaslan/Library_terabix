{
 "cells": [
  {
   "cell_type": "code",
   "execution_count": 1,
   "metadata": {},
   "outputs": [],
   "source": [
    "from __future__ import print_function\n",
    "from ipywidgets import interact, interactive, fixed, interact_manual\n",
    "import ipywidgets as widgets\n",
    "\n",
    "import pyvisa as visa\n",
    "from ThorlabsPM100 import ThorlabsPM100\n",
    "\n",
    "\n"
   ]
  },
  {
   "cell_type": "code",
   "execution_count": 1,
   "metadata": {},
   "outputs": [
    {
     "name": "stdout",
     "output_type": "stream",
     "text": [
      "Could not connect to any TSP01B\n"
     ]
    }
   ],
   "source": [
    "try :\n",
    "    from py_thorlabs_tsp import ThorlabsTsp01B\n",
    "    tsp01 = ThorlabsTsp01B('M00556615')\n",
    "except:\n",
    "    print('Could not connect to any TSP01B')"
   ]
  },
  {
   "cell_type": "code",
   "execution_count": 2,
   "metadata": {},
   "outputs": [
    {
     "ename": "NameError",
     "evalue": "name 'visa' is not defined",
     "output_type": "error",
     "traceback": [
      "\u001b[1;31m---------------------------------------------------------------------------\u001b[0m",
      "\u001b[1;31mNameError\u001b[0m                                 Traceback (most recent call last)",
      "\u001b[1;32m<ipython-input-2-4ac129cf9327>\u001b[0m in \u001b[0;36m<module>\u001b[1;34m\u001b[0m\n\u001b[0;32m      1\u001b[0m \u001b[1;31m# Connected Devices\u001b[0m\u001b[1;33m\u001b[0m\u001b[1;33m\u001b[0m\u001b[1;33m\u001b[0m\u001b[0m\n\u001b[1;32m----> 2\u001b[1;33m \u001b[0mrm\u001b[0m \u001b[1;33m=\u001b[0m \u001b[0mvisa\u001b[0m\u001b[1;33m.\u001b[0m\u001b[0mResourceManager\u001b[0m\u001b[1;33m(\u001b[0m\u001b[1;33m)\u001b[0m\u001b[1;33m\u001b[0m\u001b[1;33m\u001b[0m\u001b[0m\n\u001b[0m\u001b[0;32m      3\u001b[0m \u001b[0mrm\u001b[0m\u001b[1;33m.\u001b[0m\u001b[0mlist_resources\u001b[0m\u001b[1;33m(\u001b[0m\u001b[1;34m'?*'\u001b[0m\u001b[1;33m)\u001b[0m\u001b[1;33m\u001b[0m\u001b[1;33m\u001b[0m\u001b[0m\n\u001b[0;32m      4\u001b[0m \u001b[1;33m\u001b[0m\u001b[0m\n\u001b[0;32m      5\u001b[0m \u001b[1;31m# power meter port has been 'USB0::0x1313::0x8078::P0022565::INSTR' or 'USB0::0x1313::0x8078::P0022959::INSTR'\u001b[0m\u001b[1;33m\u001b[0m\u001b[1;33m\u001b[0m\u001b[1;33m\u001b[0m\u001b[0m\n",
      "\u001b[1;31mNameError\u001b[0m: name 'visa' is not defined"
     ]
    }
   ],
   "source": [
    "# Connected Devices\n",
    "rm = visa.ResourceManager()\n",
    "rm.list_resources('?*')\n",
    "\n",
    "# power meter port has been 'USB0::0x1313::0x8078::P0022565::INSTR' or 'USB0::0x1313::0x8078::P0022959::INSTR'\n",
    "for power_meter_port in ['USB0::0x1313::0x8078::P0021530::INSTR' ,'USB0::0x1313::0x8078::P0023481::INSTR', 'USB0::0x1313::0x8078::P0022565::INSTR','USB0::0x1313::0x8078::P0022959::INSTR' ]:\n",
    "    if power_meter_port in rm.list_resources():\n",
    "        break\n",
    "inst = rm.open_resource(power_meter_port, timeout=1)\n",
    "power_meter = ThorlabsPM100(inst=inst)\n",
    "print(power_meter)\n",
    "#power_meter.sense.power.dc.unit = 'W' # not sure if working\n",
    "power_meter.sense.power.dc.range.upper = 60/1000 # 60 mW, set to maximum range of optical power by PM100D\n",
    "#power_meter.sense.power.dc.range.auto = \"ON\"\n",
    "#power_meter._inst.query('READ?') explicit command to read the power\n",
    "power_meter.sense.correction.wavelength = 1550\n",
    "\n",
    "def pm100D_power(x):\n",
    "    power_meter.sense.power.dc.range.upper = x*10**-2 # 6 mW, set the range of optical power of PM100D\n",
    "\n",
    "style = {'description_width': 'initial'}\n",
    "pm100D_power_slider = interactive(pm100D_power, x = widgets.FloatLogSlider(value = power_meter.sense.power.dc.range.upper*10**3, min=0.77815125038-5, max=0.77815125038+1, step=1, description='Max Power (mW)',style=style) )\n",
    "display(pm100D_power_slider)\n",
    "\n",
    "\n",
    "def print_optical_power():\n",
    "    if power_meter.sense.power.dc.range.upper*10**3 < 0.7:\n",
    "        print('Power = ' + str( round(power_meter.read*10**6 , 3) ) + ' μW')\n",
    "\n",
    "    else:\n",
    "        print('Power = ' + str( round(power_meter.read*1000 , 3) ) + ' mW')\n",
    "\n",
    "def pm100D_power_mW(): # returns the optical power in mW, if saturated, returns -10, returns -1 otherwise\n",
    "    \n",
    "    power_read= -1\n",
    "    \n",
    "    try:\n",
    "        power_read = power_meter.read * 1000 # converted to mW\n",
    "        if power_read > 1000 : # if the PM100D is saturated\n",
    "            power_read = -1\n",
    "    except:\n",
    "        print('Cannot read power from powermeter')\n",
    "        \n",
    "    return power_read\n",
    "\n",
    "interact_calc = interact_manual.options(manual_name=\"Print Optical Power\"); f = interact_calc(print_optical_power)\n",
    "\n",
    "def read_max_power(max_power_wait_time = 10, unit = 'mW' ): # read the maximum power in a certain period of time\n",
    "    \n",
    "    power_time_span = []\n",
    "    start_time = time.time()\n",
    "    \n",
    "    while (time.time() - start_time) < max_power_wait_time:\n",
    "        power_time_span.append(power_meter.read)\n",
    "    \n",
    "    if unit == 'mW':\n",
    "        return max(power_time_span)*1000\n",
    "    return max(power_time_span)\n",
    "\n",
    "def disconnect_pm100D():\n",
    "    inst.close()\n",
    "    print('Powermeter is disconnected')\n",
    "    \n",
    "def disconnect_tsp01():\n",
    "    tsp01.release()\n",
    "    \n",
    "interact_shutdown = interact_manual.options(manual_name=\"Disconnect PM100D\"); \n",
    "disconnect_board_button = interact_shutdown(disconnect_pm100D)\n",
    "interact_release_tsp01 = interact_manual.options(manual_name=\"Disconnect TSP01\"); \n",
    "disconnect_tsp01_button = interact_release_tsp01(disconnect_tsp01)\n"
   ]
  },
  {
   "cell_type": "code",
   "execution_count": 18,
   "metadata": {},
   "outputs": [
    {
     "data": {
      "text/plain": [
       "0.0006645162"
      ]
     },
     "execution_count": 18,
     "metadata": {},
     "output_type": "execute_result"
    }
   ],
   "source": [
    "power_meter.sense.power.dc.range.upper"
   ]
  }
 ],
 "metadata": {
  "kernelspec": {
   "display_name": "Python 3",
   "language": "python",
   "name": "python3"
  },
  "language_info": {
   "codemirror_mode": {
    "name": "ipython",
    "version": 3
   },
   "file_extension": ".py",
   "mimetype": "text/x-python",
   "name": "python",
   "nbconvert_exporter": "python",
   "pygments_lexer": "ipython3",
   "version": "3.7.3"
  },
  "toc": {
   "base_numbering": 1,
   "nav_menu": {},
   "number_sections": true,
   "sideBar": true,
   "skip_h1_title": false,
   "title_cell": "Table of Contents",
   "title_sidebar": "Contents",
   "toc_cell": false,
   "toc_position": {},
   "toc_section_display": true,
   "toc_window_display": true
  },
  "varInspector": {
   "cols": {
    "lenName": 16,
    "lenType": 16,
    "lenVar": 40
   },
   "kernels_config": {
    "python": {
     "delete_cmd_postfix": "",
     "delete_cmd_prefix": "del ",
     "library": "var_list.py",
     "varRefreshCmd": "print(var_dic_list())"
    },
    "r": {
     "delete_cmd_postfix": ") ",
     "delete_cmd_prefix": "rm(",
     "library": "var_list.r",
     "varRefreshCmd": "cat(var_dic_list()) "
    }
   },
   "types_to_exclude": [
    "module",
    "function",
    "builtin_function_or_method",
    "instance",
    "_Feature"
   ],
   "window_display": false
  }
 },
 "nbformat": 4,
 "nbformat_minor": 2
}
