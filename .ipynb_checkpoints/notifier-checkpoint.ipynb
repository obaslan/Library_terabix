{
 "cells": [
  {
   "cell_type": "markdown",
   "metadata": {},
   "source": [
    "# This is a notebook to send an email or to show popups after a cell is done running."
   ]
  },
  {
   "cell_type": "markdown",
   "metadata": {},
   "source": [
    "#  Email Notifier"
   ]
  },
  {
   "cell_type": "code",
   "execution_count": 6,
   "metadata": {},
   "outputs": [],
   "source": [
    "import smtplib\n",
    "import jupyternotify\n",
    "\n",
    "# Here are the email package modules we'll need\n",
    "from email.mime.image import MIMEImage\n",
    "from email.mime.text import MIMEText\n",
    "from email.mime.multipart import MIMEMultipart\n",
    "from email.mime.base import MIMEBase\n",
    "from email import encoders\n",
    "import re\n",
    "\n",
    "email=1\n",
    "def notify(email=1, popup=1):\n",
    "\n",
    "    if email :\n",
    "        COMMASPACE = ', '\n",
    "\n",
    "        # Create the container (outer) email message.\n",
    "        msg = MIMEMultipart()\n",
    "        msg['Subject'] = 'Python is done'\n",
    "        me = \"obaslan@gmail.com\"\n",
    "        recipient = [\"oba2002@stanford.edu\"]\n",
    "        msg['From'] = me\n",
    "        msg['To'] = COMMASPACE.join(recipient)\n",
    "        msg.preamble = 'Python is done_2'\n",
    "\n",
    "        s = smtplib.SMTP(\"smtp.gmail.com\", 587)\n",
    "        s.starttls()\n",
    "        s.login('terabix.it@gmail.com', 'DE37FCACT3A3397W')\n",
    "        s.sendmail(me, recipient, msg.as_string())\n",
    "        s.close()\n",
    "    if popup:\n",
    "        \n",
    "        ip = get_ipython()\n",
    "        ip.register_magics(jupyternotify.JupyterNotifyMagics(ip,require_interaction=True))\n",
    "        %%notify\n"
   ]
  },
  {
   "cell_type": "code",
   "execution_count": 8,
   "metadata": {},
   "outputs": [],
   "source": [
    "def simple_email(recipient=['obaslan@terabix.com'], #'ssochava@terabix.com', 'jhutchinson@terabix.com'], # 'adaiber@terabix.com', 'ssochava@terabix.com'], \n",
    "                  email_subject='', email_body='Automated email'\n",
    "                 ):\n",
    "\n",
    "    COMMASPACE = ', '\n",
    "    \n",
    "    try :\n",
    "        # Create the container (outer) email message.\n",
    "        msg = MIMEMultipart()\n",
    "        me = \"terabix.it@gmail.com\"\n",
    "        msg['From'] = me\n",
    "        msg['To'] = COMMASPACE.join(recipient)\n",
    "        msg['Subject'] = email_subject\n",
    "\n",
    "        msg.attach(MIMEText(email_body)) \n",
    "        s = smtplib.SMTP(\"smtp.gmail.com\", 587)\n",
    "        s.starttls()\n",
    "        s.login('terabix.it@gmail.com', 'DE37FCACT3A3397W')\n",
    "        s.sendmail(me, recipient, msg.as_string())\n",
    "        s.close()\n",
    "    except:\n",
    "        print('Could not send the email %s' %email_subject)"
   ]
  },
  {
   "cell_type": "markdown",
   "metadata": {},
   "source": [
    "# Send email with attachements"
   ]
  },
  {
   "cell_type": "code",
   "execution_count": 14,
   "metadata": {},
   "outputs": [
    {
     "name": "stdout",
     "output_type": "stream",
     "text": [
      "Current SN_PI_sweep.png could not be added\n"
     ]
    }
   ],
   "source": [
    "#email_results( attach_file_address = r'C:\\Users\\testlaptop1\\Google_Drive\\Python_Coding\\Outputs\\Commands_2019_04_25.txt', attach_image_names = ['Current SN_PI_sweep.png'])\n"
   ]
  },
  {
   "cell_type": "code",
   "execution_count": 24,
   "metadata": {},
   "outputs": [
    {
     "data": {
      "text/plain": [
       "'C:\\\\Users\\\\Terabix\\\\Google_Drive\\\\Python_Coding\\\\Outputs\\\\SN25 Build 9.1\\\\Cavity Phase Scans\\\\'"
      ]
     },
     "execution_count": 24,
     "metadata": {},
     "output_type": "execute_result"
    }
   ],
   "source": [
    "\n",
    "attach_file_address = 'C:\\\\Users\\\\Terabix\\\\Google_Drive\\\\Python_Coding\\\\Outputs\\\\SN25 Build 9.1\\Cavity Phase Scans\\\\Cavity Phase Scan_SN25 Build 9.1_193.5Thz_0mA_Bench 25C_temp_locked+-0.01C per 0.01C_Comb 92.185C_2019_12_16 at 14-10.txt'\n",
    "attach_folder = re.findall( '(?<=\\\\\\)(.*?)(?=\\\\\\)' , attach_file_address)[-1]\n",
    "attach_file_name = re.findall( attach_folder + '\\\\\\(.*)', attach_file_address)[0]\n",
    "attach_folder_address = attach_file_address.replace(attach_file_name, '')\n",
    "attach_folder_address"
   ]
  },
  {
   "cell_type": "code",
   "execution_count": 22,
   "metadata": {},
   "outputs": [
    {
     "data": {
      "text/plain": [
       "''"
      ]
     },
     "execution_count": 22,
     "metadata": {},
     "output_type": "execute_result"
    }
   ],
   "source": [
    "attach_folder"
   ]
  },
  {
   "cell_type": "code",
   "execution_count": 9,
   "metadata": {},
   "outputs": [],
   "source": [
    "attach_file_address = 'C:\\\\Users\\\\Aslan\\\\Google_Drive\\\\Python_Coding\\\\Outputs\\\\asd.txt'\n",
    "attach_folder = re.findall( '(?<=\\\\\\)(.*?)(?=\\\\\\)' , attach_file_address)[-1]"
   ]
  },
  {
   "cell_type": "code",
   "execution_count": 19,
   "metadata": {},
   "outputs": [],
   "source": [
    "def email_results(recipient=['obaslan@terabix.com'], #'ssochava@terabix.com', 'jhutchinson@terabix.com'], # 'adaiber@terabix.com', 'ssochava@terabix.com'], \n",
    "                  email_subject='', email_body='Automated email', attach_file_address='',\n",
    "                  attach_image_names= [''] \n",
    "                 ):\n",
    "\n",
    "    COMMASPACE = ', '\n",
    "\n",
    "    # Create the container (outer) email message.\n",
    "    msg = MIMEMultipart()\n",
    "    me = \"terabix.it@gmail.com\"\n",
    "    msg['From'] = me\n",
    "    msg['To'] = COMMASPACE.join(recipient)\n",
    "    msg['Subject'] = email_subject\n",
    "    \n",
    "    try :\n",
    "        # add an attachement\n",
    "        part = MIMEBase('application', \"octet-stream\")\n",
    "        part.set_payload(open(attach_file_address, \"rb\").read())\n",
    "        encoders.encode_base64(part)\n",
    "    except:\n",
    "        pass\n",
    "    \n",
    "    # extract the folder address from attach_file_address\n",
    "    try:\n",
    "        attach_folder_name = re.findall( '(?<=\\\\\\)(.*?)(?=\\\\\\)' , attach_file_address)[-1]\n",
    "    except:\n",
    "        attach_folder_name = email_subject\n",
    "    print('attach_folder_name: %s' %attach_folder_name)\n",
    "    # extract the file name from attach_file_address\n",
    "    try:\n",
    "        attach_file_name = re.findall( attach_folder_name + '\\\\\\(.*)', attach_file_address)[0]\n",
    "    except:\n",
    "        attach_file_name = email_subject +'.txt'\n",
    "        \n",
    "    attach_folder_address = attach_file_address.replace(attach_file_name, '')\n",
    "\n",
    "    \n",
    "    print('attach_file_address: %s' %attach_file_address)\n",
    "    print('attach_file_name: %s' %attach_file_name)\n",
    "    \n",
    "    msg.attach(MIMEText(email_body)) \n",
    "    \n",
    "    part.add_header('Content-Disposition', \"attachment; filename= %s\" % attach_file_name) \n",
    "    msg.attach(part)\n",
    "    \n",
    "    for attach_image_name in attach_image_names:\n",
    "        try:\n",
    "            # Attach images in the same folder as the data file\n",
    "            attach_image_address = attach_folder_address + attach_image_name\n",
    "            part = MIMEBase('application', \"octet-stream\")\n",
    "            part.set_payload(open(attach_image_address, \"rb\").read())\n",
    "            #print('attach_image_address: %s' %attach_image_address)\n",
    "\n",
    "            encoders.encode_base64(part)\n",
    "            part.add_header('Content-Disposition', \"attachment; filename= %s\" % attach_image_name.replace(' (°C)', '')) \n",
    "            #print('attach_image_name: %s' %attach_image_name.replace('°', ''))\n",
    "            msg.attach(part)\n",
    "        except:\n",
    "            print('%s could not be added' %attach_image_name)\n",
    "\n",
    "    if email_subject == '':\n",
    "        msg['Subject'] = attach_file_name\n",
    "        \n",
    "    try:\n",
    "        s = smtplib.SMTP(\"smtp.gmail.com\", 587)\n",
    "        s.starttls()\n",
    "        s.login('terabix.it@gmail.com', 'DE37FCACT3A3397W')\n",
    "        s.sendmail(me, recipient, msg.as_string())\n",
    "        s.close()\n",
    "    except:\n",
    "        print('Could not send the email %s' %email_subject)"
   ]
  },
  {
   "cell_type": "code",
   "execution_count": 39,
   "metadata": {},
   "outputs": [
    {
     "data": {
      "text/plain": [
       "'Temperature_sweep'"
      ]
     },
     "execution_count": 39,
     "metadata": {},
     "output_type": "execute_result"
    }
   ],
   "source": [
    "'Temperature (°C)_sweep'.replace(' (°C)', '')"
   ]
  },
  {
   "cell_type": "markdown",
   "metadata": {},
   "source": [
    "#  Pop-up Notifier"
   ]
  },
  {
   "cell_type": "code",
   "execution_count": 8,
   "metadata": {},
   "outputs": [],
   "source": [
    "\n",
    "popup=1"
   ]
  },
  {
   "cell_type": "code",
   "execution_count": 4,
   "metadata": {},
   "outputs": [
    {
     "data": {
      "application/javascript": [
       "$(document).ready(\n",
       "    function() {\n",
       "        function appendUniqueDiv(){\n",
       "            // append a div with our uuid so we can check that it's already\n",
       "            // been sent and avoid duplicates on page reload\n",
       "            var notifiedDiv = document.createElement(\"div\")\n",
       "            notifiedDiv.id = \"8cdce1e9-1ae4-44e6-838c-582c912bb67a\"\n",
       "            element.append(notifiedDiv)\n",
       "        }\n",
       "\n",
       "        // only send notifications if the pageload is complete; this will\n",
       "        // help stop extra notifications when a saved notebook is loaded,\n",
       "        // which during testing gives us state \"interactive\", not \"complete\"\n",
       "        if (document.readyState === 'complete') {\n",
       "            // check for the div that signifies that the notification\n",
       "            // was already sent\n",
       "            if (document.getElementById(\"8cdce1e9-1ae4-44e6-838c-582c912bb67a\") === null) {\n",
       "                var notificationPayload = {\"requireInteraction\": true, \"icon\": \"/static/base/images/favicon.ico\", \"body\": \"Cell execution has finished!\"};\n",
       "                if (Notification.permission !== 'denied') {\n",
       "                    if (Notification.permission !== 'granted') { \n",
       "                        Notification.requestPermission(function (permission) {\n",
       "                            if(!('permission' in Notification)) {\n",
       "                                Notification.permission = permission\n",
       "                            }\n",
       "                        })\n",
       "                    }\n",
       "                    if (Notification.permission === 'granted') {\n",
       "                    var notification = new Notification(\"Jupyter Notebook\", notificationPayload)\n",
       "                    appendUniqueDiv()\n",
       "                    notification.onclick = function () {\n",
       "                        window.focus();\n",
       "                        this.close();\n",
       "                        };\n",
       "                    } \n",
       "                }     \n",
       "            }\n",
       "        }\n",
       "    }\n",
       ")\n"
      ],
      "text/plain": [
       "<IPython.core.display.Javascript object>"
      ]
     },
     "metadata": {},
     "output_type": "display_data"
    }
   ],
   "source": [
    "\n",
    "a=1 # anything\n"
   ]
  },
  {
   "cell_type": "code",
   "execution_count": 1,
   "metadata": {},
   "outputs": [
    {
     "data": {
      "application/javascript": [
       "if (!(\"Notification\" in window)) {\n",
       "    alert(\"This browser does not support desktop notifications, so the %%notify magic will not work.\");\n",
       "} else if (Notification.permission !== 'granted' && Notification.permission !== 'denied') {\n",
       "    Notification.requestPermission(function (permission) {\n",
       "        if(!('permission' in Notification)) {\n",
       "            Notification.permission = permission;\n",
       "        }\n",
       "    })\n",
       "}\n"
      ],
      "text/plain": [
       "<IPython.core.display.Javascript object>"
      ]
     },
     "metadata": {},
     "output_type": "display_data"
    },
    {
     "data": {
      "application/javascript": [
       "$(document).ready(\n",
       "    function() {\n",
       "        function appendUniqueDiv(){\n",
       "            // append a div with our uuid so we can check that it's already\n",
       "            // been sent and avoid duplicates on page reload\n",
       "            var notifiedDiv = document.createElement(\"div\")\n",
       "            notifiedDiv.id = \"af1e149e-dd39-428e-ab0c-68176a12ed53\"\n",
       "            element.append(notifiedDiv)\n",
       "        }\n",
       "\n",
       "        // only send notifications if the pageload is complete; this will\n",
       "        // help stop extra notifications when a saved notebook is loaded,\n",
       "        // which during testing gives us state \"interactive\", not \"complete\"\n",
       "        if (document.readyState === 'complete') {\n",
       "            // check for the div that signifies that the notification\n",
       "            // was already sent\n",
       "            if (document.getElementById(\"af1e149e-dd39-428e-ab0c-68176a12ed53\") === null) {\n",
       "                var notificationPayload = {\"requireInteraction\": false, \"icon\": \"/static/base/images/favicon.ico\", \"body\": \"Cell execution has finished!\"};\n",
       "                if (Notification.permission !== 'denied') {\n",
       "                    if (Notification.permission !== 'granted') { \n",
       "                        Notification.requestPermission(function (permission) {\n",
       "                            if(!('permission' in Notification)) {\n",
       "                                Notification.permission = permission\n",
       "                            }\n",
       "                        })\n",
       "                    }\n",
       "                    if (Notification.permission === 'granted') {\n",
       "                    var notification = new Notification(\"Jupyter Notebook\", notificationPayload)\n",
       "                    appendUniqueDiv()\n",
       "                    notification.onclick = function () {\n",
       "                        window.focus();\n",
       "                        this.close();\n",
       "                        };\n",
       "                    } \n",
       "                }     \n",
       "            }\n",
       "        }\n",
       "    }\n",
       ")\n"
      ],
      "text/plain": [
       "<IPython.core.display.Javascript object>"
      ]
     },
     "metadata": {},
     "output_type": "display_data"
    }
   ],
   "source": [
    "import jupyternotify\n",
    "ip = get_ipython()\n",
    "ip.register_magics(jupyternotify.JupyterNotifyMagics)\n",
    "%notify\n",
    "import time\n",
    "time.sleep(1)"
   ]
  }
 ],
 "metadata": {
  "kernelspec": {
   "display_name": "Python 3",
   "language": "python",
   "name": "python3"
  },
  "language_info": {
   "codemirror_mode": {
    "name": "ipython",
    "version": 3
   },
   "file_extension": ".py",
   "mimetype": "text/x-python",
   "name": "python",
   "nbconvert_exporter": "python",
   "pygments_lexer": "ipython3",
   "version": "3.7.3"
  },
  "toc": {
   "base_numbering": 1,
   "nav_menu": {},
   "number_sections": true,
   "sideBar": true,
   "skip_h1_title": false,
   "title_cell": "Table of Contents",
   "title_sidebar": "Contents",
   "toc_cell": false,
   "toc_position": {},
   "toc_section_display": true,
   "toc_window_display": false
  },
  "varInspector": {
   "cols": {
    "lenName": 16,
    "lenType": 16,
    "lenVar": 40
   },
   "kernels_config": {
    "python": {
     "delete_cmd_postfix": "",
     "delete_cmd_prefix": "del ",
     "library": "var_list.py",
     "varRefreshCmd": "print(var_dic_list())"
    },
    "r": {
     "delete_cmd_postfix": ") ",
     "delete_cmd_prefix": "rm(",
     "library": "var_list.r",
     "varRefreshCmd": "cat(var_dic_list()) "
    }
   },
   "types_to_exclude": [
    "module",
    "function",
    "builtin_function_or_method",
    "instance",
    "_Feature"
   ],
   "window_display": false
  }
 },
 "nbformat": 4,
 "nbformat_minor": 2
}
