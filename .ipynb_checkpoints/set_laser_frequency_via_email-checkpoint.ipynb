{
 "cells": [
  {
   "cell_type": "markdown",
   "metadata": {},
   "source": [
    "# Check Emails to terabix.it@gmail.com\n",
    "Subject has to be in the form ''set_laser_frequency 194.5'  \n",
    "Deletes the email after reading it"
   ]
  },
  {
   "cell_type": "code",
   "execution_count": 33,
   "metadata": {},
   "outputs": [],
   "source": [
    "import re\n",
    "import smtplib\n",
    "import time\n",
    "import imaplib\n",
    "import email\n",
    "\n",
    "ORG_EMAIL   = \"@gmail.com\"\n",
    "FROM_EMAIL  = \"terabix.it\" + ORG_EMAIL\n",
    "FROM_PWD    = \"DE37FCACT3A3397W\"\n",
    "SMTP_SERVER = \"imap.gmail.com\"\n",
    "SMTP_PORT   = 993\n",
    "\n",
    "# -------------------------------------------------\n",
    "#\n",
    "# Utility to read email from Gmail Using Python\n",
    "#\n",
    "# ------------------------------------------------\n",
    "\n",
    "def read_email_from_gmail():\n",
    "\n",
    "    mail = imaplib.IMAP4_SSL(SMTP_SERVER)\n",
    "    mail.login(FROM_EMAIL,FROM_PWD)\n",
    "    mail.select('set_laser_frequency')\n",
    "\n",
    "    type, data = mail.search(None, 'ALL')\n",
    "    mail_ids = data[0]\n",
    "\n",
    "    id_list = mail_ids.split()\n",
    "    if len(id_list) > 0:\n",
    "        first_email_id = int(id_list[0])\n",
    "        latest_email_id = int(id_list[-1])\n",
    "        #print(data)\n",
    "        for i in range(latest_email_id,first_email_id-1, -1):\n",
    "\n",
    "            typ, data = mail.fetch(str(i), '(RFC822)' )\n",
    "\n",
    "\n",
    "            for response_part in data:\n",
    "                if isinstance(response_part, tuple):\n",
    "\n",
    "                    msg = email.message_from_string(response_part[1].decode('utf-8'))\n",
    "                    #print(msg)\n",
    "                    email_subject = msg['subject']\n",
    "                    email_from = msg['from']\n",
    "                    #if email_from == 'Burak Aslan <obaslan@terabix.com>' and email_subject == 'set_laser_frequency':\n",
    "                    #print ('From : ' + email_from + '\\n')\n",
    "                    #print ('Subject : ' + email_subject + '\\n')\n",
    "                    \n",
    "                    frequency, gc_set, bench_temp =  re.findall('[0-9-.]+' , email_subject)\n",
    "                    \n",
    "                    print (frequency + ' THz ' +  gc_set + ' mA ' + bench_temp + ' °C' )\n",
    "                    mail.store(str(i), '+FLAGS', r'(\\Deleted)')\n",
    "            mail.expunge()\n",
    "            \n",
    "            return frequency, gc_set, bench_temp, email_from\n",
    "    else:\n",
    "        print('No emails yet')\n",
    "        return \n",
    "    "
   ]
  }
 ],
 "metadata": {
  "kernelspec": {
   "display_name": "Python 3",
   "language": "python",
   "name": "python3"
  },
  "language_info": {
   "codemirror_mode": {
    "name": "ipython",
    "version": 3
   },
   "file_extension": ".py",
   "mimetype": "text/x-python",
   "name": "python",
   "nbconvert_exporter": "python",
   "pygments_lexer": "ipython3",
   "version": "3.7.3"
  },
  "toc": {
   "base_numbering": 1,
   "nav_menu": {},
   "number_sections": true,
   "sideBar": true,
   "skip_h1_title": false,
   "title_cell": "Table of Contents",
   "title_sidebar": "Contents",
   "toc_cell": false,
   "toc_position": {},
   "toc_section_display": true,
   "toc_window_display": true
  },
  "varInspector": {
   "cols": {
    "lenName": 16,
    "lenType": 16,
    "lenVar": 40
   },
   "kernels_config": {
    "python": {
     "delete_cmd_postfix": "",
     "delete_cmd_prefix": "del ",
     "library": "var_list.py",
     "varRefreshCmd": "print(var_dic_list())"
    },
    "r": {
     "delete_cmd_postfix": ") ",
     "delete_cmd_prefix": "rm(",
     "library": "var_list.r",
     "varRefreshCmd": "cat(var_dic_list()) "
    }
   },
   "types_to_exclude": [
    "module",
    "function",
    "builtin_function_or_method",
    "instance",
    "_Feature"
   ],
   "window_display": false
  }
 },
 "nbformat": 4,
 "nbformat_minor": 2
}
