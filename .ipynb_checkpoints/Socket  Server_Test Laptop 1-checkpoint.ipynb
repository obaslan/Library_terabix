{
 "cells": [
  {
   "cell_type": "code",
   "execution_count": 2,
   "metadata": {},
   "outputs": [
    {
     "name": "stdout",
     "output_type": "stream",
     "text": [
      "Serving as host: Aslan\n",
      "#1 Got a connection from ('192.168.137.1', 50568)\n",
      "#2 Got a connection from ('192.168.137.1', 50576)\n",
      "#3 Got a connection from ('192.168.137.1', 50580)\n",
      "#4 Got a connection from ('192.168.137.1', 50581)\n",
      "#5 Got a connection from ('192.168.137.1', 50582)\n",
      "#6 Got a connection from ('192.168.137.1', 50583)\n",
      "#7 Got a connection from ('192.168.137.1', 50584)\n",
      "#8 Got a connection from ('192.168.137.1', 50585)\n",
      "#9 Got a connection from ('192.168.137.1', 50586)\n",
      "#10 Got a connection from ('192.168.137.1', 50587)\n",
      "CLosing Server\n"
     ]
    }
   ],
   "source": [
    "import socket                                         \n",
    "\n",
    "# create a socket object by hostname\n",
    "serversocket = socket.socket(socket.AF_INET, socket.SOCK_STREAM) \n",
    "\n",
    "# get local machine name\n",
    "host = socket.gethostname()                           \n",
    "print('Serving as host: %s' %host)\n",
    "\n",
    "port = 9999                                           \n",
    "\n",
    "# bind to the port\n",
    "serversocket.bind((host, port))                                  \n",
    "\n",
    "# queue up to 5 requests\n",
    "serversocket.listen(5)                                           \n",
    "\n",
    "i = 0\n",
    "\n",
    "while i < 10:\n",
    "    i+=1\n",
    "    # establish a connection\n",
    "    clientsocket,addr = serversocket.accept()      \n",
    "\n",
    "    print(\"#%s Got a connection from %s\" % (i, str(addr)))\n",
    "    \n",
    "    msg = 'Experiment Done'+ \"\\r\\n\"\n",
    "    \n",
    "    if i == 10:\n",
    "        msg = 'Experiment Done Closing Server'+ \"\\r\\n\"\n",
    "        print('CLosing Server')\n",
    "        \n",
    "    clientsocket.send(msg.encode('ascii'))\n",
    "    clientsocket.close()"
   ]
  },
  {
   "cell_type": "markdown",
   "metadata": {},
   "source": [
    "# By Host Address"
   ]
  },
  {
   "cell_type": "code",
   "execution_count": 2,
   "metadata": {},
   "outputs": [
    {
     "name": "stdout",
     "output_type": "stream",
     "text": [
      "#1\n",
      "Connected by ('10.1.10.126', 60610)\n",
      "Customer sent: '1'\n",
      "#2\n",
      "Connected by ('10.1.10.126', 60618)\n",
      "Customer sent: '195\n",
      "#3\n",
      "Connected by ('10.1.10.126', 60622)\n",
      "Customer sent: '195\n"
     ]
    }
   ],
   "source": [
    "import socket\n",
    "import numpy as np\n",
    "\n",
    "HOST = '10.1.10.34'  # Standard loopback interface address (localhost)\n",
    "PORT = 9999        # Port to listen on (non-privileged ports are > 1023)\n",
    "\n",
    "for i in np.arange(1,4):\n",
    "    with socket.socket(socket.AF_INET, socket.SOCK_STREAM) as s:\n",
    "        s.bind((HOST, PORT))\n",
    "        s.listen()\n",
    "        conn, addr = s.accept()\n",
    "        with conn:\n",
    "            print('#%s' %i)\n",
    "            print('Connected by', addr)\n",
    "            while True:\n",
    "                data = conn.recv(1024)\n",
    "                if not data:\n",
    "                    break\n",
    "                print('Customer sent: %s' %data.decode())\n",
    "                conn.sendall(data)"
   ]
  },
  {
   "cell_type": "code",
   "execution_count": 8,
   "metadata": {},
   "outputs": [
    {
     "data": {
      "text/plain": [
       "''"
      ]
     },
     "execution_count": 8,
     "metadata": {},
     "output_type": "execute_result"
    }
   ],
   "source": [
    "data.decode()"
   ]
  }
 ],
 "metadata": {
  "kernelspec": {
   "display_name": "Python 3",
   "language": "python",
   "name": "python3"
  },
  "language_info": {
   "codemirror_mode": {
    "name": "ipython",
    "version": 3
   },
   "file_extension": ".py",
   "mimetype": "text/x-python",
   "name": "python",
   "nbconvert_exporter": "python",
   "pygments_lexer": "ipython3",
   "version": "3.7.4"
  },
  "toc": {
   "base_numbering": 1,
   "nav_menu": {},
   "number_sections": true,
   "sideBar": true,
   "skip_h1_title": false,
   "title_cell": "Table of Contents",
   "title_sidebar": "Contents",
   "toc_cell": false,
   "toc_position": {},
   "toc_section_display": true,
   "toc_window_display": true
  },
  "varInspector": {
   "cols": {
    "lenName": 16,
    "lenType": 16,
    "lenVar": 40
   },
   "kernels_config": {
    "python": {
     "delete_cmd_postfix": "",
     "delete_cmd_prefix": "del ",
     "library": "var_list.py",
     "varRefreshCmd": "print(var_dic_list())"
    },
    "r": {
     "delete_cmd_postfix": ") ",
     "delete_cmd_prefix": "rm(",
     "library": "var_list.r",
     "varRefreshCmd": "cat(var_dic_list()) "
    }
   },
   "types_to_exclude": [
    "module",
    "function",
    "builtin_function_or_method",
    "instance",
    "_Feature"
   ],
   "window_display": false
  }
 },
 "nbformat": 4,
 "nbformat_minor": 2
}
