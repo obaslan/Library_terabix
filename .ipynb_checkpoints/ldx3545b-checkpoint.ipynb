{
 "cells": [
  {
   "cell_type": "code",
   "execution_count": 16,
   "metadata": {},
   "outputs": [],
   "source": [
    "# Manual is at\n",
    "# https://www.newport.com/medias/sys_master/images/images/ha3/hef/9333795848222/LDX-3500B-User-Manual.pdf"
   ]
  },
  {
   "cell_type": "code",
   "execution_count": 1,
   "metadata": {},
   "outputs": [],
   "source": [
    "import serial\n",
    "import time\n",
    "wait_time = 1000/1000"
   ]
  },
  {
   "cell_type": "code",
   "execution_count": null,
   "metadata": {},
   "outputs": [],
   "source": [
    "def connect_to_ldx3545b(port = 'COM3', baudrate= 19200):\n",
    "    \n",
    "    ldx3545b = serial.Serial(port, baudrate, timeout=1)\n",
    "\n",
    "    return ldx3545b"
   ]
  },
  {
   "cell_type": "code",
   "execution_count": 1,
   "metadata": {},
   "outputs": [],
   "source": [
    "def disconnect_ldx3545b():\n",
    "    \n",
    "    ldx3545b.close()"
   ]
  },
  {
   "cell_type": "code",
   "execution_count": 10,
   "metadata": {},
   "outputs": [],
   "source": [
    "def ldx3545b_io(command,\n",
    "               wait_time = wait_time # waiting time after writing a command before-->\n",
    "             #reading the output to make sure that the board has enough time to respond\n",
    "               ):\n",
    "    \n",
    "    bytes_to_write = bytes( command + '\\n', encoding = 'utf-8')\n",
    "    n_bytes_written = ldx3545b.write( bytes_to_write )\n",
    "    \n",
    "    time.sleep(wait_time)\n",
    "\n",
    "    bytes_read = ldx3545b.read_all()\n",
    "    \n",
    "    return bytes_read.decode().split('\\n')[0]"
   ]
  }
 ],
 "metadata": {
  "kernelspec": {
   "display_name": "Python 3",
   "language": "python",
   "name": "python3"
  },
  "language_info": {
   "codemirror_mode": {
    "name": "ipython",
    "version": 3
   },
   "file_extension": ".py",
   "mimetype": "text/x-python",
   "name": "python",
   "nbconvert_exporter": "python",
   "pygments_lexer": "ipython3",
   "version": "3.7.4"
  },
  "toc": {
   "base_numbering": 1,
   "nav_menu": {},
   "number_sections": true,
   "sideBar": true,
   "skip_h1_title": false,
   "title_cell": "Table of Contents",
   "title_sidebar": "Contents",
   "toc_cell": false,
   "toc_position": {},
   "toc_section_display": true,
   "toc_window_display": false
  },
  "varInspector": {
   "cols": {
    "lenName": 16,
    "lenType": 16,
    "lenVar": 40
   },
   "kernels_config": {
    "python": {
     "delete_cmd_postfix": "",
     "delete_cmd_prefix": "del ",
     "library": "var_list.py",
     "varRefreshCmd": "print(var_dic_list())"
    },
    "r": {
     "delete_cmd_postfix": ") ",
     "delete_cmd_prefix": "rm(",
     "library": "var_list.r",
     "varRefreshCmd": "cat(var_dic_list()) "
    }
   },
   "types_to_exclude": [
    "module",
    "function",
    "builtin_function_or_method",
    "instance",
    "_Feature"
   ],
   "window_display": false
  }
 },
 "nbformat": 4,
 "nbformat_minor": 2
}
