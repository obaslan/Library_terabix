{
 "cells": [
  {
   "cell_type": "code",
   "execution_count": 1,
   "metadata": {},
   "outputs": [],
   "source": [
    "from pptx import Presentation\n",
    "from pptx.util import Inches"
   ]
  },
  {
   "cell_type": "code",
   "execution_count": 1,
   "metadata": {},
   "outputs": [],
   "source": [
    "def prepare_powerpoint(file_name, title = ''):\n",
    "    \n",
    "    prs = Presentation(file_name +'.pptx')\n",
    "\n",
    "    if title != '': # if a title is provided\n",
    "        # Title slide\n",
    "        title_slide_layout = prs.slide_layouts[0]\n",
    "        slide = prs.slides.add_slide(title_slide_layout)\n",
    "        title = slide.shapes.title\n",
    "        subtitle = slide.placeholders[1]\n",
    "\n",
    "        title.text = \"ΔR/R-Strain Fit Reports\"\n",
    "        subtitle.text = \"Burak Aslan\"\n",
    "\n",
    "    # Second Slide\n",
    "    bullet_slide_layout = prs.slide_layouts[1]\n",
    "\n",
    "    slide = prs.slides.add_slide(bullet_slide_layout)\n",
    "    shapes = slide.shapes\n",
    "\n",
    "    title_shape = shapes.title\n",
    "    body_shape = shapes.placeholders[1]\n",
    "\n",
    "    title_shape.text = 'Adding a Bullet Slide'\n",
    "\n",
    "    tf = body_shape.text_frame\n",
    "    tf.text = 'Find the bullet slide layout'\n",
    "\n",
    "    p = tf.add_paragraph()\n",
    "    p.text = 'Use _TextFrame.text for first bullet'\n",
    "    p.level = 1\n",
    "\n",
    "    p = tf.add_paragraph()\n",
    "    p.text = 'Use _TextFrame.add_paragraph() for subsequent bullets'\n",
    "    p.level = 2\n",
    "\n",
    "    prs.save(file_name + '.pptx')"
   ]
  },
  {
   "cell_type": "code",
   "execution_count": null,
   "metadata": {
    "collapsed": true
   },
   "outputs": [],
   "source": [
    "def image_to_powerpoint(file_name, image, slide_title = ''):\n",
    "    \n",
    "    \n",
    "    prs = Presentation(file_name + '.pptx')\n",
    "    \n",
    "    ## Add an image to an existing powerpoint\n",
    "    title_only_slide_layout = prs.slide_layouts[1]\n",
    "    slide = prs.slides.add_slide(title_only_slide_layout)\n",
    "    shapes = slide.shapes\n",
    "    shapes.title.text = slide_title\n",
    "\n",
    "    ## Add the date of the analysis to the slide\n",
    "    date_text = shapes.add_textbox(4, 1, 1, 1)\n",
    "    date_text.text=time.strftime(\"%Y-%m-%d\")\n",
    "\n",
    "    left = Inches(.1)\n",
    "    top = Inches(2)\n",
    "    height = Inches(4.5)\n",
    "    pic = slide.shapes.add_picture(image, left, top, height=height)\n",
    "    \n",
    "    prs.save(file_name + '.pptx')"
   ]
  },
  {
   "cell_type": "code",
   "execution_count": 3,
   "metadata": {},
   "outputs": [],
   "source": [
    "def images_to_powerpoint(file_name, images, folder_address= 'Outputs', slide_title = '', slide_label=''):\n",
    "    \n",
    "    prs = Presentation(folder_address + '\\\\' + file_name + '.pptx')\n",
    "    \n",
    "    ## Add an image to an existing powerpoint\n",
    "    title_only_slide_layout = prs.slide_layouts[1]\n",
    "    slide = prs.slides.add_slide(title_only_slide_layout)\n",
    "    shapes = slide.shapes\n",
    "    shapes.title.text = slide_title\n",
    "    \n",
    "    slide_width  = Inches(40/3)\n",
    "    slide_height = Inches(15/2)\n",
    "\n",
    "    textbox_height = Inches(0.5)\n",
    "    textbox_width  = Inches(1.5)\n",
    "\n",
    "    ## Add the date of the analysis to the top right of the slide\n",
    "    date_text = shapes.add_textbox( slide_width - textbox_width, 0, textbox_width, textbox_height)\n",
    "    date_text.text = time.strftime(\"%Y-%m-%d\")\n",
    "    \n",
    "    ## Add a label about analysis to the bottom left of the slide\n",
    "    label_text = shapes.add_textbox( 0, slide_height - textbox_height, textbox_width, textbox_height)\n",
    "    label_text.text = slide_label\n",
    "\n",
    "    top = Inches(2)\n",
    "    width = 0.8*slide_width/len(images)\n",
    "    \n",
    "    i = 0\n",
    "    for image in images:\n",
    "        left = i * width + 0.1*slide_width\n",
    "        pic = slide.shapes.add_picture(folder_address + '\\\\' + image, left, top, width=width)\n",
    "        i+=1\n",
    "    prs.save(folder_address + '\\\\' +file_name + '.pptx')"
   ]
  },
  {
   "cell_type": "code",
   "execution_count": 7,
   "metadata": {},
   "outputs": [
    {
     "data": {
      "text/plain": [
       "914400"
      ]
     },
     "execution_count": 7,
     "metadata": {},
     "output_type": "execute_result"
    }
   ],
   "source": [
    "Inches(1)"
   ]
  }
 ],
 "metadata": {
  "kernelspec": {
   "display_name": "Python 3",
   "language": "python",
   "name": "python3"
  },
  "language_info": {
   "codemirror_mode": {
    "name": "ipython",
    "version": 3
   },
   "file_extension": ".py",
   "mimetype": "text/x-python",
   "name": "python",
   "nbconvert_exporter": "python",
   "pygments_lexer": "ipython3",
   "version": "3.7.1"
  },
  "toc": {
   "base_numbering": 1,
   "nav_menu": {},
   "number_sections": true,
   "sideBar": true,
   "skip_h1_title": false,
   "title_cell": "Table of Contents",
   "title_sidebar": "Contents",
   "toc_cell": false,
   "toc_position": {},
   "toc_section_display": true,
   "toc_window_display": false
  }
 },
 "nbformat": 4,
 "nbformat_minor": 2
}
