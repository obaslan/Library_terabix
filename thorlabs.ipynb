{
 "cells": [
  {
   "cell_type": "code",
   "execution_count": 10,
   "metadata": {},
   "outputs": [],
   "source": [
    "from __future__ import print_function\n",
    "from ipywidgets import interact, interactive, fixed, interact_manual\n",
    "import ipywidgets as widgets\n",
    "\n",
    "import pyvisa as visa\n",
    "from ThorlabsPM100 import ThorlabsPM100\n"
   ]
  },
  {
   "cell_type": "code",
   "execution_count": 20,
   "metadata": {},
   "outputs": [
    {
     "data": {
      "application/vnd.jupyter.widget-view+json": {
       "model_id": "40a9ef969ab445a4b4f675ca7f17e84c",
       "version_major": 2,
       "version_minor": 0
      },
      "text/plain": [
       "interactive(children=(FloatLogSlider(value=59.99999999949663, description='Max Power (mW)', max=1.77815125038,…"
      ]
     },
     "metadata": {},
     "output_type": "display_data"
    },
    {
     "data": {
      "application/vnd.jupyter.widget-view+json": {
       "model_id": "f31052310c654184825b882542e39a70",
       "version_major": 2,
       "version_minor": 0
      },
      "text/plain": [
       "interactive(children=(Button(description='Print Optical Power', style=ButtonStyle()), Output()), _dom_classes=…"
      ]
     },
     "metadata": {},
     "output_type": "display_data"
    },
    {
     "data": {
      "application/vnd.jupyter.widget-view+json": {
       "model_id": "b1345413e27e4791bd1a89fba0524b59",
       "version_major": 2,
       "version_minor": 0
      },
      "text/plain": [
       "interactive(children=(Button(description='Disconnect PM100D', style=ButtonStyle()), Output()), _dom_classes=('…"
      ]
     },
     "metadata": {},
     "output_type": "display_data"
    }
   ],
   "source": [
    "# Connected Devices\n",
    "rm = visa.ResourceManager()\n",
    "rm.list_resources('?*')\n",
    "\n",
    "# power meter port is 'USB0::0x1313::0x8078::P0022565::INSTR'\n",
    "power_meter_port = 'USB0::0x1313::0x8078::P0022565::INSTR' if 'USB0::0x1313::0x8078::P0022565::INSTR' in rm.list_resources() else ''\n",
    "inst = rm.open_resource(power_meter_port, timeout=1)\n",
    "power_meter = ThorlabsPM100(inst=inst)\n",
    "#power_meter.sense.power.dc.unit = 'W' # not sure if working\n",
    "power_meter.sense.power.dc.range.upper = 60/1000 # 60 mW, set to maximum range of optical power by PM100D\n",
    "#power_meter.sense.power.dc.range.auto = \"ON\"\n",
    "power_meter.sense.correction.wavelength = 1550\n",
    "\n",
    "def pm100D_power(x):\n",
    "    power_meter.sense.power.dc.range.upper = x*10**-3 # 60 mW, set the range of optical power of PM100D\n",
    "\n",
    "style = {'description_width': 'initial'}\n",
    "pm100D_power_slider = interactive(pm100D_power, x = widgets.FloatLogSlider(value = power_meter.sense.power.dc.range.upper*10**3, min=0.77815125038-5, max=0.77815125038+1, step=1, description='Max Power (mW)',style=style) )\n",
    "display(pm100D_power_slider)\n",
    "\n",
    "\n",
    "def print_optical_power():\n",
    "    if power_meter.sense.power.dc.range.upper*10**3 < 0.7:\n",
    "        print('Power = ' + str( round(power_meter.read*10**6 , 3) ) + '  μW')\n",
    "\n",
    "    else:\n",
    "        print('Power = ' + str( round(power_meter.read*1000 , 3) ) + '  mW')\n",
    "\n",
    "    \n",
    "\n",
    "interact_calc = interact_manual.options(manual_name=\"Print Optical Power\"); f = interact_calc(print_optical_power)\n",
    "\n",
    "def disconnect_pm100D():\n",
    "    inst.close()\n",
    "    print('Powermeter is disconnected')\n",
    "    \n",
    "interact_shutdown = interact_manual.options(manual_name=\"Disconnect PM100D\"); \n",
    "disconnect_board_button = interact_shutdown(disconnect_pm100D)\n"
   ]
  },
  {
   "cell_type": "code",
   "execution_count": 18,
   "metadata": {},
   "outputs": [
    {
     "data": {
      "text/plain": [
       "0.0006645162"
      ]
     },
     "execution_count": 18,
     "metadata": {},
     "output_type": "execute_result"
    }
   ],
   "source": [
    "power_meter.sense.power.dc.range.upper"
   ]
  }
 ],
 "metadata": {
  "kernelspec": {
   "display_name": "Python 3",
   "language": "python",
   "name": "python3"
  },
  "language_info": {
   "codemirror_mode": {
    "name": "ipython",
    "version": 3
   },
   "file_extension": ".py",
   "mimetype": "text/x-python",
   "name": "python",
   "nbconvert_exporter": "python",
   "pygments_lexer": "ipython3",
   "version": "3.7.1"
  },
  "toc": {
   "base_numbering": 1,
   "nav_menu": {},
   "number_sections": true,
   "sideBar": true,
   "skip_h1_title": false,
   "title_cell": "Table of Contents",
   "title_sidebar": "Contents",
   "toc_cell": false,
   "toc_position": {},
   "toc_section_display": true,
   "toc_window_display": false
  }
 },
 "nbformat": 4,
 "nbformat_minor": 2
}
