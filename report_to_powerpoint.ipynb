{
 "cells": [
  {
   "cell_type": "code",
   "execution_count": 3,
   "metadata": {
    "collapsed": false
   },
   "outputs": [],
   "source": [
    "from pptx import Presentation\n",
    "from pptx.util import Inches\n",
    "import arrow\n",
    "\n",
    "def prepare_powerpoint(file_name, title):\n",
    "    prs = Presentation()\n",
    "\n",
    "    # Title slide\n",
    "    title_slide_layout = prs.slide_layouts[0]\n",
    "    slide = prs.slides.add_slide(title_slide_layout)\n",
    "    title = slide.shapes.title\n",
    "    subtitle = slide.placeholders[1]\n",
    "\n",
    "    title.text = \"ΔR/R-Strain Fit Reports\"\n",
    "    subtitle.text = \"Burak Aslan \\n Stanford University\"\n",
    "\n",
    "    # Second Slide\n",
    "    bullet_slide_layout = prs.slide_layouts[1]\n",
    "\n",
    "    slide = prs.slides.add_slide(bullet_slide_layout)\n",
    "    shapes = slide.shapes\n",
    "\n",
    "    title_shape = shapes.title\n",
    "    body_shape = shapes.placeholders[1]\n",
    "\n",
    "    title_shape.text = 'Adding a Bullet Slide'\n",
    "\n",
    "    tf = body_shape.text_frame\n",
    "    tf.text = 'Find the bullet slide layout'\n",
    "\n",
    "    p = tf.add_paragraph()\n",
    "    p.text = 'Use _TextFrame.text for first bullet'\n",
    "    p.level = 1\n",
    "\n",
    "    p = tf.add_paragraph()\n",
    "    p.text = 'Use _TextFrame.add_paragraph() for subsequent bullets'\n",
    "    p.level = 2\n",
    "\n",
    "    prs.save(file_name)\n",
    "    \n",
    "def image_to_powerpoint(file_name, image):\n",
    "    \n",
    "    report_powerpoint = open(r\"C:\\Users\\Aslan\\Desktop\\Pyhton Coding\" + '\\\\' + file_name, \"rb\")\n",
    "    prs = Presentation(report_powerpoint)\n",
    "    report_powerpoint.close()\n",
    "    \n",
    "    ## Add an image to an existing powerpoint\n",
    "    title_only_slide_layout = prs.slide_layouts[5]\n",
    "    slide = prs.slides.add_slide(title_only_slide_layout)\n",
    "    shapes = slide.shapes\n",
    "    shapes.title.text = 'Adding an Image'\n",
    "\n",
    "    ## Add the date of the analysis to the slide\n",
    "    date_text=shapes.add_textbox(4, 1, 1, 1)\n",
    "    date_text.text=arrow.now().format('YYYY-MM-DD')\n",
    "\n",
    "    left = Inches(.1)\n",
    "    top = Inches(2)\n",
    "    height = Inches(4.5)\n",
    "    pic = slide.shapes.add_picture(image, left, top, height=height)\n",
    "    \n",
    "    prs.save(file_name)"
   ]
  },
  {
   "cell_type": "code",
   "execution_count": null,
   "metadata": {
    "collapsed": true
   },
   "outputs": [],
   "source": []
  }
 ],
 "metadata": {
  "kernelspec": {
   "display_name": "Python 3",
   "language": "python",
   "name": "python3"
  },
  "language_info": {
   "codemirror_mode": {
    "name": "ipython",
    "version": 3
   },
   "file_extension": ".py",
   "mimetype": "text/x-python",
   "name": "python",
   "nbconvert_exporter": "python",
   "pygments_lexer": "ipython3",
   "version": "3.6.0"
  }
 },
 "nbformat": 4,
 "nbformat_minor": 2
}
